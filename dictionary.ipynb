{
 "cells": [
  {
   "cell_type": "code",
   "execution_count": 9,
   "metadata": {},
   "outputs": [
    {
     "name": "stdout",
     "output_type": "stream",
     "text": [
      "{'Name': {'A': 1, 'B': 2}, 'Age': 17}\n"
     ]
    }
   ],
   "source": [
    "# What is dictionary\n",
    "# It is a collection of key-value pairs enclosed within curly braces\n",
    "\n",
    "# Creating a dictionary\n",
    "diction = {'Name':{'A':1,'B':2},'Age':17}\n",
    "print(diction)"
   ]
  },
  {
   "cell_type": "code",
   "execution_count": 13,
   "metadata": {},
   "outputs": [
    {
     "name": "stdout",
     "output_type": "stream",
     "text": [
      "Name - {'A': 1, 'B': 2}\n",
      "Age - 17\n",
      "dict_items([('Name', {'A': 1, 'B': 2}), ('Age', 17)])\n"
     ]
    }
   ],
   "source": [
    "# Looping through dictionary\n",
    "\n",
    "for i,j in diction.items():\n",
    "    print(i,'-',j)\n",
    "print(diction.items())"
   ]
  },
  {
   "cell_type": "code",
   "execution_count": 18,
   "metadata": {},
   "outputs": [
    {
     "name": "stdout",
     "output_type": "stream",
     "text": [
      "{'Name': 'Insane Programming', 'Age': 17, 'Python': 'high level'}\n",
      "{'Name': 'Insane Programming', 'Age': 17, 'Python': 'high level', 'Java': 232}\n"
     ]
    }
   ],
   "source": [
    "# Updating dictionary values\n",
    "\n",
    "diction['Name'] = 'Insane Programming'\n",
    "print(diction)\n",
    "\n",
    "diction.update({'Python':'high level','Java':232})\n",
    "print(diction)"
   ]
  },
  {
   "cell_type": "code",
   "execution_count": 19,
   "metadata": {},
   "outputs": [
    {
     "name": "stdout",
     "output_type": "stream",
     "text": [
      "{'Name': 'Insane Programming', 'Python': 'high level', 'Java': 232}\n"
     ]
    }
   ],
   "source": [
    "# deleting the items\n",
    "del diction['Age']\n",
    "print(diction)"
   ]
  },
  {
   "cell_type": "code",
   "execution_count": 20,
   "metadata": {},
   "outputs": [
    {
     "name": "stdout",
     "output_type": "stream",
     "text": [
      "{'Name': 'Insane Programming', 'Python': 'high level'}\n"
     ]
    }
   ],
   "source": [
    "# pop()\n",
    "# Remove element with specified key\n",
    "diction.pop('Java')\n",
    "print(diction)"
   ]
  },
  {
   "cell_type": "code",
   "execution_count": 21,
   "metadata": {},
   "outputs": [
    {
     "name": "stdout",
     "output_type": "stream",
     "text": [
      "{'Name': 'Insane Programming'}\n"
     ]
    }
   ],
   "source": [
    "# popitem()\n",
    "# removes last inserted key-value pair\n",
    "diction.popitem()\n",
    "print(diction)\n"
   ]
  },
  {
   "cell_type": "code",
   "execution_count": 22,
   "metadata": {},
   "outputs": [
    {
     "name": "stdout",
     "output_type": "stream",
     "text": [
      "{}\n"
     ]
    }
   ],
   "source": [
    "# clear method\n",
    "diction.clear()\n",
    "print(diction)"
   ]
  },
  {
   "cell_type": "code",
   "execution_count": 26,
   "metadata": {},
   "outputs": [
    {
     "name": "stdout",
     "output_type": "stream",
     "text": [
      "{1: 1, 2: 4, 3: 9, 4: 16}\n",
      "{1: 1, 2: 4, 3: 9, 4: 16}\n"
     ]
    }
   ],
   "source": [
    "# copy method\n",
    "\n",
    "a = {1:1,2:4,3:9}\n",
    "b = a\n",
    "a.update({4:16})\n",
    "print(a)\n",
    "print(b)"
   ]
  },
  {
   "cell_type": "code",
   "execution_count": 29,
   "metadata": {},
   "outputs": [
    {
     "name": "stdout",
     "output_type": "stream",
     "text": [
      "{'Key1': (0, 1, 2), 'Key2': (0, 1, 2), 'Key3': (0, 1, 2)}\n"
     ]
    }
   ],
   "source": [
    "# fromkeys\n",
    "x = ('Key1','Key2','Key3')\n",
    "y = (0,1,2)\n",
    "print(dict.fromkeys(x,y))"
   ]
  },
  {
   "cell_type": "code",
   "execution_count": 37,
   "metadata": {},
   "outputs": [
    {
     "name": "stdout",
     "output_type": "stream",
     "text": [
      "8732\n"
     ]
    }
   ],
   "source": [
    "# get method\n",
    "diction = {'Name':'8732'}\n",
    "# print(diction['Name'])\n",
    "print(diction.get('Name','Insane Programming'))"
   ]
  }
 ],
 "metadata": {
  "kernelspec": {
   "display_name": "Python 3",
   "language": "python",
   "name": "python3"
  },
  "language_info": {
   "codemirror_mode": {
    "name": "ipython",
    "version": 3
   },
   "file_extension": ".py",
   "mimetype": "text/x-python",
   "name": "python",
   "nbconvert_exporter": "python",
   "pygments_lexer": "ipython3",
   "version": "3.10.9"
  },
  "orig_nbformat": 4,
  "vscode": {
   "interpreter": {
    "hash": "c65b3ab7a0be142e7661bb6ddace0db803d8862e49befeaa7a78e6bcedc57828"
   }
  }
 },
 "nbformat": 4,
 "nbformat_minor": 2
}
