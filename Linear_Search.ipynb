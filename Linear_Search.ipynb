{
 "cells": [
  {
   "cell_type": "code",
   "execution_count": null,
   "metadata": {},
   "outputs": [],
   "source": [
    "# Linear Search\n",
    "\n",
    "# Linear search is the simplest method for searching.\n",
    "# This method can be performed on a sorted or an unsorted list."
   ]
  },
  {
   "cell_type": "code",
   "execution_count": null,
   "metadata": {},
   "outputs": [],
   "source": [
    "# Example\n",
    "\n",
    "[12,23,34,45,56,67,78,89]\n",
    "# Find - 45"
   ]
  },
  {
   "cell_type": "code",
   "execution_count": 3,
   "metadata": {},
   "outputs": [
    {
     "name": "stdout",
     "output_type": "stream",
     "text": [
      "Not Found\n"
     ]
    }
   ],
   "source": [
    "# Code \n",
    "\n",
    "list = [12,23,34,45,56,67,78,89]\n",
    "key = int(input('Search Value: '))\n",
    "\n",
    "def linearSearch(key):\n",
    "    \n",
    "    for i in range(len(list)):\n",
    "        if list[i] == key:\n",
    "            return i\n",
    "    return \"Not Found\"\n",
    "\n",
    "print(linearSearch(key))"
   ]
  },
  {
   "cell_type": "code",
   "execution_count": null,
   "metadata": {},
   "outputs": [],
   "source": [
    "# Algorithm - Pseudo Code Based\n",
    "\n",
    "# Step 1 - Start \n",
    "# Step 2 - Initialize list\n",
    "# Step 3 - Read key [element to be found]\n",
    "# Step 4 - for i in len(list)\n",
    "                # if list[i] = key \n",
    "                # then return i\n",
    "\n",
    "                # else return -1\n",
    "# step 5 - stop"
   ]
  },
  {
   "cell_type": "code",
   "execution_count": null,
   "metadata": {},
   "outputs": [],
   "source": [
    "# Algorithm - Theory Based\n",
    "\n",
    "# Step 1 - Start from the leftmost element of given arr[] and \n",
    "# one by one compare element x with each element of arr[]\n",
    "\n",
    "# Step 2 - If x matches with any of the element, return the index value.\n",
    "\n",
    "# Step 3 - If x doesn’t match with any of elements in arr[] , return -1 or element not found."
   ]
  }
 ],
 "metadata": {
  "kernelspec": {
   "display_name": "Python 3",
   "language": "python",
   "name": "python3"
  },
  "language_info": {
   "codemirror_mode": {
    "name": "ipython",
    "version": 3
   },
   "file_extension": ".py",
   "mimetype": "text/x-python",
   "name": "python",
   "nbconvert_exporter": "python",
   "pygments_lexer": "ipython3",
   "version": "3.10.9"
  },
  "orig_nbformat": 4,
  "vscode": {
   "interpreter": {
    "hash": "c65b3ab7a0be142e7661bb6ddace0db803d8862e49befeaa7a78e6bcedc57828"
   }
  }
 },
 "nbformat": 4,
 "nbformat_minor": 2
}
